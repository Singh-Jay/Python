{
 "cells": [
  {
   "cell_type": "code",
   "execution_count": 115,
   "metadata": {},
   "outputs": [],
   "source": [
    "class Node:\n",
    "    \n",
    "    def __init__(self, key, parent = None):\n",
    "        self.key = key\n",
    "        self.parent = parent\n",
    "        self.leftChild = None\n",
    "        self.rightChild = None\n",
    "        \n",
    "        \n",
    "class BinarySerchTree:\n",
    "    \n",
    "    def __init__(self):\n",
    "        self.root = None\n",
    "        \n",
    "    def insert(self, val):       \n",
    "        x = self.root\n",
    "        y = None\n",
    "        z = Node(val)\n",
    "        while x is not None:\n",
    "            y = x\n",
    "            if z.key < x.key:\n",
    "                x = x.leftChild\n",
    "            else:\n",
    "                x = x.rightChild\n",
    "        z.parent = y\n",
    "        if y == None:\n",
    "            self.root = z\n",
    "        elif z.key < y.key:\n",
    "            y.leftChild = z\n",
    "        else:\n",
    "            y.rightChild = z\n",
    "        \n",
    "        \n",
    "    #Traversing the tree\n",
    "    def inorder(self, root):\n",
    "        if root:\n",
    "            self.inorder(root.leftChild)      \n",
    "            print(root.key)\n",
    "            self.inorder(root.rightChild)\n",
    "            \n",
    "    #Serching a key in BST\n",
    "    def search(self, root, val):\n",
    "        if root is None or root.key == val:\n",
    "            return root\n",
    "        elif val < root.key:\n",
    "            return self.search(root.leftChild, val)\n",
    "        else:\n",
    "            return self.search(root.rightChild, val)\n",
    "            \n",
    "    #Finding Successor\n",
    "    def tree_minimum(self, root):\n",
    "        if root.leftChild:\n",
    "            root = root.leftChild\n",
    "        return root\n",
    "    \n",
    "    def tree_maximum(self, root):\n",
    "        if root.rightChild:\n",
    "            root = root.rightChild\n",
    "        return root\n",
    "    \n",
    "    def _transplant(self, u, v):\n",
    "        if u.parent == None:\n",
    "            self.root = v\n",
    "        elif u == u.parent.leftChild:\n",
    "            u.parent.leftChild = v\n",
    "        else:\n",
    "            u.parent.rightChild = v\n",
    "        if v != None:\n",
    "            v.parent = u.parent\n",
    "    \n",
    "    #Deleting a key in BST\n",
    "    def delete(self, val):\n",
    "        node = self.search(self.root, val)\n",
    "        if not node:\n",
    "            raise KeyError('Error, Key does not exist.')\n",
    "            return\n",
    "        #If node has one child or no child\n",
    "        if not node.leftChild:\n",
    "            self._transplant(node, node.rightChild)\n",
    "            del node\n",
    "            return\n",
    "        elif not node.rightChild:\n",
    "            self._transplant(node, node.leftChild)\n",
    "            del node\n",
    "            return\n",
    "        #If node have both child\n",
    "        else:\n",
    "            successor = self.tree_minimum(node.rightChild)\n",
    "            if successor.parent != node:\n",
    "                self._transplant(successor, successor.rightChild)\n",
    "                successor.rightChild = node.rightChild\n",
    "                successor.rightChild.parent = successor\n",
    "            self._transplant(node, successor)\n",
    "            successor.leftChild = node.leftChild\n",
    "            node.leftChild.parent = successor\n",
    "            del node\n",
    "            \n",
    "    #Check whether Binary Search Tree or not\n",
    "    def check_BST(self, root):\n",
    "        if not root:\n",
    "            return False      \n",
    "        if root.leftChild:\n",
    "            maxLeft = self.tree_maximum(root.leftChild)\n",
    "            if root.key < maxLeft.key:\n",
    "                return False\n",
    "        if root.rightChild:\n",
    "            maxRight = self.tree_maximum(root.rightChild)\n",
    "            if root.key > maxRight.key:\n",
    "                return False\n",
    "        self.check_BST(root.leftChild)\n",
    "        self.check_BST(root.rightChild)\n",
    "        return True\n",
    "    \n",
    "    #Level order Traversal     \n",
    "    def level_order_traversal(self, root):\n",
    "        from collections import deque\n",
    "        if not root:\n",
    "            return      \n",
    "        nodes = deque([root])\n",
    "        currentCount, nextCount = 1, 0\n",
    "        while len(nodes) != 0:          \n",
    "            currentNode = nodes.popleft()\n",
    "            currentCount -= 1\n",
    "            print(str(currentNode.key) + ' ', end = '')\n",
    "            if currentNode.leftChild:\n",
    "                nodes.append(currentNode.leftChild)\n",
    "                nextCount += 1\n",
    "            if currentNode.rightChild:\n",
    "                nodes.append(currentNode.rightChild)\n",
    "                nextCount += 1\n",
    "            if currentCount == 0:\n",
    "                print('')\n",
    "                currentCount, nextCount = nextCount, currentCount\n",
    "            \n",
    "    #Trim a BST within minVal and maxVal\n",
    "    def trim_BST(self, root, minVal, maxVal):\n",
    "        if not root:\n",
    "            return\n",
    "        root.leftChild = self.trim_BST(root.leftChild, minVal, maxVal)\n",
    "        root.rightChild = self.trim_BST(root.rightChild, minVal, maxVal)\n",
    "        if minVal <= root.key <= maxVal:\n",
    "            return root\n",
    "        elif minVal > root.key:\n",
    "            return root.rightChild\n",
    "        else:\n",
    "            return root.leftChild"
   ]
  },
  {
   "cell_type": "code",
   "execution_count": 116,
   "metadata": {},
   "outputs": [],
   "source": [
    "t = BinarySerchTree()\n",
    "t.insert(50)\n",
    "t.insert(30)\n",
    "t.insert(20)\n",
    "t.insert(40)\n",
    "t.insert(70)\n",
    "t.insert(60)\n",
    "t.insert(80)\n",
    "t.insert(75)"
   ]
  },
  {
   "cell_type": "code",
   "execution_count": 117,
   "metadata": {},
   "outputs": [
    {
     "name": "stdout",
     "output_type": "stream",
     "text": [
      "20\n",
      "30\n",
      "40\n",
      "50\n",
      "60\n",
      "70\n",
      "75\n",
      "80\n"
     ]
    }
   ],
   "source": [
    "t.inorder(t.root)"
   ]
  },
  {
   "cell_type": "code",
   "execution_count": 118,
   "metadata": {},
   "outputs": [
    {
     "name": "stdout",
     "output_type": "stream",
     "text": [
      "50 \n",
      "30 70 \n",
      "20 40 60 80 \n",
      "75 \n"
     ]
    }
   ],
   "source": [
    "t.level_order_traversal(t.root)"
   ]
  },
  {
   "cell_type": "code",
   "execution_count": 119,
   "metadata": {},
   "outputs": [
    {
     "data": {
      "text/plain": [
       "<__main__.Node at 0x18456a4ee48>"
      ]
     },
     "execution_count": 119,
     "metadata": {},
     "output_type": "execute_result"
    }
   ],
   "source": [
    "t.trim_BST(t.root, 30, 60)"
   ]
  },
  {
   "cell_type": "code",
   "execution_count": 120,
   "metadata": {},
   "outputs": [
    {
     "name": "stdout",
     "output_type": "stream",
     "text": [
      "30\n",
      "40\n",
      "50\n",
      "60\n"
     ]
    }
   ],
   "source": [
    "t.inorder(t.root)"
   ]
  },
  {
   "cell_type": "code",
   "execution_count": null,
   "metadata": {},
   "outputs": [],
   "source": []
  },
  {
   "cell_type": "code",
   "execution_count": null,
   "metadata": {},
   "outputs": [],
   "source": []
  },
  {
   "cell_type": "code",
   "execution_count": null,
   "metadata": {},
   "outputs": [],
   "source": []
  },
  {
   "cell_type": "code",
   "execution_count": null,
   "metadata": {},
   "outputs": [],
   "source": []
  },
  {
   "cell_type": "code",
   "execution_count": null,
   "metadata": {},
   "outputs": [],
   "source": []
  },
  {
   "cell_type": "code",
   "execution_count": null,
   "metadata": {},
   "outputs": [],
   "source": []
  },
  {
   "cell_type": "code",
   "execution_count": null,
   "metadata": {},
   "outputs": [],
   "source": []
  },
  {
   "cell_type": "code",
   "execution_count": null,
   "metadata": {},
   "outputs": [],
   "source": []
  },
  {
   "cell_type": "code",
   "execution_count": null,
   "metadata": {},
   "outputs": [],
   "source": []
  },
  {
   "cell_type": "code",
   "execution_count": null,
   "metadata": {},
   "outputs": [],
   "source": []
  },
  {
   "cell_type": "code",
   "execution_count": null,
   "metadata": {},
   "outputs": [],
   "source": []
  },
  {
   "cell_type": "code",
   "execution_count": null,
   "metadata": {},
   "outputs": [],
   "source": []
  },
  {
   "cell_type": "code",
   "execution_count": 1,
   "metadata": {},
   "outputs": [],
   "source": [
    "class Example:\n",
    "    def __init__(self, topn=5):\n",
    "        self.topn = topn\n",
    "    def print_top_n(self, n=None):\n",
    "        n = self.topn if n is None else n\n",
    "        if n <= 5:\n",
    "            self.print_top_n(6)\n",
    "        print(n)"
   ]
  },
  {
   "cell_type": "code",
   "execution_count": 2,
   "metadata": {},
   "outputs": [],
   "source": [
    "i = Example()"
   ]
  },
  {
   "cell_type": "code",
   "execution_count": 3,
   "metadata": {},
   "outputs": [
    {
     "name": "stdout",
     "output_type": "stream",
     "text": [
      "6\n",
      "5\n"
     ]
    }
   ],
   "source": [
    "i.print_top_n()"
   ]
  },
  {
   "cell_type": "code",
   "execution_count": null,
   "metadata": {},
   "outputs": [],
   "source": []
  }
 ],
 "metadata": {
  "kernelspec": {
   "display_name": "Python 3",
   "language": "python",
   "name": "python3"
  },
  "language_info": {
   "codemirror_mode": {
    "name": "ipython",
    "version": 3
   },
   "file_extension": ".py",
   "mimetype": "text/x-python",
   "name": "python",
   "nbconvert_exporter": "python",
   "pygments_lexer": "ipython3",
   "version": "3.7.3"
  }
 },
 "nbformat": 4,
 "nbformat_minor": 2
}
