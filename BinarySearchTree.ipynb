{
 "cells": [
  {
   "cell_type": "code",
   "execution_count": null,
   "metadata": {},
   "outputs": [],
   "source": [
    "class Node:\n",
    "    \n",
    "    def __init__(self, val):\n",
    "        self.key = val\n",
    "        self.leftChild = None\n",
    "        self.rightChild = None\n",
    "        \n",
    "        \n",
    "class BinarySerchTree:\n",
    "    \n",
    "    def __init__(self):\n",
    "        self.root = None\n",
    "        \n",
    "    def setRoot(self, val):\n",
    "        self.root = Node(val)\n",
    "        \n",
    "    def getRoot(self):\n",
    "        return self.root\n",
    "                \n",
    "    def insert(self, val):\n",
    "        if not self.root:\n",
    "            self.setRoot(val)\n",
    "        else:\n",
    "            self.insert_node(self.root, val)\n",
    "                \n",
    "    def insert_node(self, root, val):\n",
    "        if root.key == val:\n",
    "            root.key = val\n",
    "            return\n",
    "        elif root.key > val:\n",
    "            if root.leftChild:\n",
    "                self.insert_node(root.leftChild, val)\n",
    "            else:\n",
    "                root.leftChild = Node(val)\n",
    "        else:\n",
    "            if root.rightChild:\n",
    "                self.insert_node(root.rightChild, val)\n",
    "            else:\n",
    "                root.rightChild = Node(val)\n",
    "        \n",
    "    #Serching a key in BST\n",
    "    def search(self, val):\n",
    "        if self.root.key == val:\n",
    "            return True\n",
    "        else:\n",
    "            self.search_node(sel.root, val)\n",
    "            \n",
    "    def search_node(self, root = None, val):\n",
    "        root = self.root if root is None else root\n",
    "        if root.key == value:\n",
    "            return True\n",
    "        else:\n",
    "            self.search_node(root.leftChild, val)\n",
    "    \n",
    "    #Traversing the tree\n",
    "    def inorder(self, root):\n",
    "        if root:\n",
    "            self.inorder(root.leftChild)\n",
    "            print(root.key)\n",
    "            self.inorder(root.rightChild)"
   ]
  },
  {
   "cell_type": "code",
   "execution_count": null,
   "metadata": {},
   "outputs": [],
   "source": [
    "t = BinarySerchTree()\n",
    "t.insert(50)\n",
    "t.insert(30)\n",
    "t.insert(20)\n",
    "t.insert(40)\n",
    "t.insert(70)\n",
    "t.insert(60)\n",
    "t.insert(80)"
   ]
  },
  {
   "cell_type": "code",
   "execution_count": null,
   "metadata": {},
   "outputs": [],
   "source": [
    "t.inorder(t.getRoot())"
   ]
  },
  {
   "cell_type": "code",
   "execution_count": null,
   "metadata": {},
   "outputs": [],
   "source": []
  },
  {
   "cell_type": "code",
   "execution_count": null,
   "metadata": {},
   "outputs": [],
   "source": []
  },
  {
   "cell_type": "code",
   "execution_count": null,
   "metadata": {},
   "outputs": [],
   "source": []
  },
  {
   "cell_type": "code",
   "execution_count": null,
   "metadata": {},
   "outputs": [],
   "source": []
  },
  {
   "cell_type": "code",
   "execution_count": null,
   "metadata": {},
   "outputs": [],
   "source": []
  },
  {
   "cell_type": "code",
   "execution_count": null,
   "metadata": {},
   "outputs": [],
   "source": []
  },
  {
   "cell_type": "code",
   "execution_count": null,
   "metadata": {},
   "outputs": [],
   "source": []
  },
  {
   "cell_type": "code",
   "execution_count": null,
   "metadata": {},
   "outputs": [],
   "source": []
  },
  {
   "cell_type": "code",
   "execution_count": null,
   "metadata": {},
   "outputs": [],
   "source": []
  },
  {
   "cell_type": "code",
   "execution_count": null,
   "metadata": {},
   "outputs": [],
   "source": []
  },
  {
   "cell_type": "code",
   "execution_count": null,
   "metadata": {},
   "outputs": [],
   "source": []
  },
  {
   "cell_type": "code",
   "execution_count": null,
   "metadata": {},
   "outputs": [],
   "source": []
  },
  {
   "cell_type": "code",
   "execution_count": null,
   "metadata": {},
   "outputs": [],
   "source": []
  },
  {
   "cell_type": "code",
   "execution_count": null,
   "metadata": {},
   "outputs": [],
   "source": []
  },
  {
   "cell_type": "code",
   "execution_count": null,
   "metadata": {},
   "outputs": [],
   "source": []
  },
  {
   "cell_type": "code",
   "execution_count": 1,
   "metadata": {},
   "outputs": [],
   "source": [
    "class Example:\n",
    "    def __init__(self, topn=5):\n",
    "        self.topn = topn\n",
    "    def print_top_n(self, n=None):\n",
    "        n = self.topn if n is None else n\n",
    "        if n <= 5:\n",
    "            self.print_top_n(6)\n",
    "        print(n)"
   ]
  },
  {
   "cell_type": "code",
   "execution_count": 2,
   "metadata": {},
   "outputs": [],
   "source": [
    "i = Example()"
   ]
  },
  {
   "cell_type": "code",
   "execution_count": 3,
   "metadata": {},
   "outputs": [
    {
     "name": "stdout",
     "output_type": "stream",
     "text": [
      "6\n",
      "5\n"
     ]
    }
   ],
   "source": [
    "i.print_top_n()"
   ]
  },
  {
   "cell_type": "code",
   "execution_count": null,
   "metadata": {},
   "outputs": [],
   "source": []
  }
 ],
 "metadata": {
  "kernelspec": {
   "display_name": "Python 3",
   "language": "python",
   "name": "python3"
  },
  "language_info": {
   "codemirror_mode": {
    "name": "ipython",
    "version": 3
   },
   "file_extension": ".py",
   "mimetype": "text/x-python",
   "name": "python",
   "nbconvert_exporter": "python",
   "pygments_lexer": "ipython3",
   "version": "3.7.3"
  }
 },
 "nbformat": 4,
 "nbformat_minor": 2
}
